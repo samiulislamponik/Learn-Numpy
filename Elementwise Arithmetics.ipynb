{
 "cells": [
  {
   "cell_type": "code",
   "execution_count": 1,
   "id": "65582118-ecfb-4ef0-81f2-ff5e91abfcde",
   "metadata": {},
   "outputs": [],
   "source": [
    "import numpy as np"
   ]
  },
  {
   "cell_type": "code",
   "execution_count": 2,
   "id": "ca285390-9693-43d3-b0f6-138725e6d9ba",
   "metadata": {},
   "outputs": [
    {
     "data": {
      "text/plain": [
       "'1.23.5'"
      ]
     },
     "execution_count": 2,
     "metadata": {},
     "output_type": "execute_result"
    }
   ],
   "source": [
    "np.__version__"
   ]
  },
  {
   "cell_type": "code",
   "execution_count": 2,
   "id": "528fc147-76a0-4788-b5c2-a34dd03706f2",
   "metadata": {},
   "outputs": [],
   "source": [
    "li = [1, 3, 4]"
   ]
  },
  {
   "cell_type": "code",
   "execution_count": 4,
   "id": "d5b5085a-42cb-4080-9bd3-3572ef4ec839",
   "metadata": {},
   "outputs": [],
   "source": [
    "li2 = [[4, 6, 2], [2, 7, 4]]"
   ]
  },
  {
   "cell_type": "code",
   "execution_count": 5,
   "id": "220c9fab-8313-457a-a2a9-4b0464d41822",
   "metadata": {},
   "outputs": [
    {
     "data": {
      "text/plain": [
       "[1, 3, 4]"
      ]
     },
     "execution_count": 5,
     "metadata": {},
     "output_type": "execute_result"
    }
   ],
   "source": [
    "li"
   ]
  },
  {
   "cell_type": "code",
   "execution_count": 6,
   "id": "088a6149-69d7-4cab-9302-c9cb8fffe1b5",
   "metadata": {},
   "outputs": [
    {
     "data": {
      "text/plain": [
       "[[4, 6, 2], [2, 7, 4]]"
      ]
     },
     "execution_count": 6,
     "metadata": {},
     "output_type": "execute_result"
    }
   ],
   "source": [
    "li2"
   ]
  },
  {
   "cell_type": "code",
   "execution_count": 13,
   "id": "bb059a02-320d-478a-b10e-0fc13af9d0e7",
   "metadata": {},
   "outputs": [],
   "source": [
    "li3 = li + li2"
   ]
  },
  {
   "cell_type": "code",
   "execution_count": 14,
   "id": "7fdfd2be-20f1-44d8-99d2-c9332a8944e4",
   "metadata": {},
   "outputs": [
    {
     "data": {
      "text/plain": [
       "[1, 3, 4, [4, 6, 2], [2, 7, 4]]"
      ]
     },
     "execution_count": 14,
     "metadata": {},
     "output_type": "execute_result"
    }
   ],
   "source": [
    "li3"
   ]
  },
  {
   "cell_type": "code",
   "execution_count": 12,
   "id": "12f34e0b-4221-4a4e-9301-ca5362e23e40",
   "metadata": {},
   "outputs": [
    {
     "data": {
      "text/plain": [
       "[4, 6, 2]"
      ]
     },
     "execution_count": 12,
     "metadata": {},
     "output_type": "execute_result"
    }
   ],
   "source": [
    "li3[3]"
   ]
  },
  {
   "cell_type": "code",
   "execution_count": 15,
   "id": "4e4c7864-13ec-4197-b779-6e01a4055c2b",
   "metadata": {},
   "outputs": [
    {
     "data": {
      "text/plain": [
       "[1, 3, 4]"
      ]
     },
     "execution_count": 15,
     "metadata": {},
     "output_type": "execute_result"
    }
   ],
   "source": [
    "li"
   ]
  },
  {
   "cell_type": "code",
   "execution_count": 16,
   "id": "ca698d06-fae3-410b-aea1-0a92437f1630",
   "metadata": {},
   "outputs": [
    {
     "data": {
      "text/plain": [
       "[[4, 6, 2], [2, 7, 4]]"
      ]
     },
     "execution_count": 16,
     "metadata": {},
     "output_type": "execute_result"
    }
   ],
   "source": [
    "li2"
   ]
  },
  {
   "cell_type": "code",
   "execution_count": 17,
   "id": "2e564df4-097e-44fe-adc3-ca42d190344e",
   "metadata": {},
   "outputs": [
    {
     "ename": "TypeError",
     "evalue": "can't multiply sequence by non-int of type 'list'",
     "output_type": "error",
     "traceback": [
      "\u001b[1;31m---------------------------------------------------------------------------\u001b[0m",
      "\u001b[1;31mTypeError\u001b[0m                                 Traceback (most recent call last)",
      "Input \u001b[1;32mIn [17]\u001b[0m, in \u001b[0;36m<cell line: 1>\u001b[1;34m()\u001b[0m\n\u001b[1;32m----> 1\u001b[0m li4 \u001b[38;5;241m=\u001b[39m \u001b[43mli\u001b[49m\u001b[43m \u001b[49m\u001b[38;5;241;43m*\u001b[39;49m\u001b[43m \u001b[49m\u001b[43mli2\u001b[49m\n",
      "\u001b[1;31mTypeError\u001b[0m: can't multiply sequence by non-int of type 'list'"
     ]
    }
   ],
   "source": [
    "li4 = li * li2"
   ]
  },
  {
   "cell_type": "code",
   "execution_count": 18,
   "id": "ce1d9e04-ac0c-4b3a-9f86-3dd8ceecad9e",
   "metadata": {},
   "outputs": [
    {
     "data": {
      "text/plain": [
       "list"
      ]
     },
     "execution_count": 18,
     "metadata": {},
     "output_type": "execute_result"
    }
   ],
   "source": [
    "type(li)"
   ]
  },
  {
   "cell_type": "code",
   "execution_count": 19,
   "id": "7aae003d-92a1-44a8-9672-128a941ee718",
   "metadata": {},
   "outputs": [
    {
     "ename": "AttributeError",
     "evalue": "'list' object has no attribute 'dtype'",
     "output_type": "error",
     "traceback": [
      "\u001b[1;31m---------------------------------------------------------------------------\u001b[0m",
      "\u001b[1;31mAttributeError\u001b[0m                            Traceback (most recent call last)",
      "Input \u001b[1;32mIn [19]\u001b[0m, in \u001b[0;36m<cell line: 1>\u001b[1;34m()\u001b[0m\n\u001b[1;32m----> 1\u001b[0m \u001b[43mli\u001b[49m\u001b[38;5;241;43m.\u001b[39;49m\u001b[43mdtype\u001b[49m\n",
      "\u001b[1;31mAttributeError\u001b[0m: 'list' object has no attribute 'dtype'"
     ]
    }
   ],
   "source": [
    "li.dtype"
   ]
  },
  {
   "cell_type": "code",
   "execution_count": 20,
   "id": "68a4bb69-23ad-4632-a92a-e5ce034cdddf",
   "metadata": {},
   "outputs": [
    {
     "ename": "AttributeError",
     "evalue": "'list' object has no attribute 'type'",
     "output_type": "error",
     "traceback": [
      "\u001b[1;31m---------------------------------------------------------------------------\u001b[0m",
      "\u001b[1;31mAttributeError\u001b[0m                            Traceback (most recent call last)",
      "Input \u001b[1;32mIn [20]\u001b[0m, in \u001b[0;36m<cell line: 1>\u001b[1;34m()\u001b[0m\n\u001b[1;32m----> 1\u001b[0m \u001b[43mli\u001b[49m\u001b[38;5;241;43m.\u001b[39;49m\u001b[43mtype\u001b[49m\n",
      "\u001b[1;31mAttributeError\u001b[0m: 'list' object has no attribute 'type'"
     ]
    }
   ],
   "source": [
    "li.type\n"
   ]
  },
  {
   "cell_type": "code",
   "execution_count": 21,
   "id": "bdf64fd8-3fb7-4ff9-8eb8-7a807e0cdcd1",
   "metadata": {},
   "outputs": [
    {
     "ename": "TypeError",
     "evalue": "can't multiply sequence by non-int of type 'list'",
     "output_type": "error",
     "traceback": [
      "\u001b[1;31m---------------------------------------------------------------------------\u001b[0m",
      "\u001b[1;31mTypeError\u001b[0m                                 Traceback (most recent call last)",
      "Input \u001b[1;32mIn [21]\u001b[0m, in \u001b[0;36m<cell line: 1>\u001b[1;34m()\u001b[0m\n\u001b[1;32m----> 1\u001b[0m li5 \u001b[38;5;241m=\u001b[39m \u001b[43mli\u001b[49m\u001b[43m \u001b[49m\u001b[38;5;241;43m*\u001b[39;49m\u001b[43m \u001b[49m\u001b[43mli3\u001b[49m\u001b[43m[\u001b[49m\u001b[38;5;241;43m3\u001b[39;49m\u001b[43m]\u001b[49m\n",
      "\u001b[1;31mTypeError\u001b[0m: can't multiply sequence by non-int of type 'list'"
     ]
    }
   ],
   "source": [
    "li5 = li * li3[3]"
   ]
  },
  {
   "cell_type": "code",
   "execution_count": 22,
   "id": "5387a899-bbd7-4524-bfa3-def0a0b6c94d",
   "metadata": {},
   "outputs": [],
   "source": [
    "ali = np.array(li)"
   ]
  },
  {
   "cell_type": "code",
   "execution_count": 23,
   "id": "5a48e3b2-350a-4597-aabb-29f19a50329c",
   "metadata": {},
   "outputs": [
    {
     "data": {
      "text/plain": [
       "array([1, 3, 4])"
      ]
     },
     "execution_count": 23,
     "metadata": {},
     "output_type": "execute_result"
    }
   ],
   "source": [
    "ali"
   ]
  },
  {
   "cell_type": "code",
   "execution_count": 24,
   "id": "d01c0d6e-d930-49e8-8db7-996a7f5d8ae7",
   "metadata": {},
   "outputs": [
    {
     "data": {
      "text/plain": [
       "numpy.ndarray"
      ]
     },
     "execution_count": 24,
     "metadata": {},
     "output_type": "execute_result"
    }
   ],
   "source": [
    "type(ali)"
   ]
  },
  {
   "cell_type": "code",
   "execution_count": 25,
   "id": "4f18362e-e7fb-4d06-baac-21d65607903c",
   "metadata": {},
   "outputs": [],
   "source": [
    "ali2 = np.array(li2)"
   ]
  },
  {
   "cell_type": "code",
   "execution_count": 26,
   "id": "2f1c7eee-74ec-4d0e-bb5d-aef7e9de9233",
   "metadata": {},
   "outputs": [
    {
     "data": {
      "text/plain": [
       "array([[4, 6, 2],\n",
       "       [2, 7, 4]])"
      ]
     },
     "execution_count": 26,
     "metadata": {},
     "output_type": "execute_result"
    }
   ],
   "source": [
    "ali2"
   ]
  },
  {
   "cell_type": "code",
   "execution_count": 27,
   "id": "e2d1e031-cc86-4154-b473-57b1ecfa20e4",
   "metadata": {},
   "outputs": [],
   "source": [
    "ali3 = ali + ali2"
   ]
  },
  {
   "cell_type": "code",
   "execution_count": 28,
   "id": "0a94ba46-8c81-459d-a24d-58faa70353df",
   "metadata": {},
   "outputs": [
    {
     "data": {
      "text/plain": [
       "array([[ 5,  9,  6],\n",
       "       [ 3, 10,  8]])"
      ]
     },
     "execution_count": 28,
     "metadata": {},
     "output_type": "execute_result"
    }
   ],
   "source": [
    "ali3"
   ]
  },
  {
   "cell_type": "code",
   "execution_count": 29,
   "id": "38eee88a-f0d3-463a-9412-b631bc84112a",
   "metadata": {},
   "outputs": [],
   "source": [
    "ali4 = ali * ali2"
   ]
  },
  {
   "cell_type": "code",
   "execution_count": 30,
   "id": "9a387f4a-81d6-4c6e-a7e8-bb9356e22904",
   "metadata": {},
   "outputs": [
    {
     "data": {
      "text/plain": [
       "array([[ 4, 18,  8],\n",
       "       [ 2, 21, 16]])"
      ]
     },
     "execution_count": 30,
     "metadata": {},
     "output_type": "execute_result"
    }
   ],
   "source": [
    "ali4"
   ]
  },
  {
   "cell_type": "code",
   "execution_count": 31,
   "id": "c0542e4d-bc48-400e-9ea0-0dcac34e791c",
   "metadata": {},
   "outputs": [],
   "source": [
    "ali6 = ali + ali4[0]"
   ]
  },
  {
   "cell_type": "code",
   "execution_count": 32,
   "id": "c71367c8-0a2d-47bc-afb0-6862f3b6e6b2",
   "metadata": {},
   "outputs": [
    {
     "data": {
      "text/plain": [
       "array([ 5, 21, 12])"
      ]
     },
     "execution_count": 32,
     "metadata": {},
     "output_type": "execute_result"
    }
   ],
   "source": [
    "ali6"
   ]
  },
  {
   "cell_type": "code",
   "execution_count": 33,
   "id": "7d0f109e-4549-4ac2-9adf-deef4d95330a",
   "metadata": {},
   "outputs": [
    {
     "ename": "IndexError",
     "evalue": "too many indices for array: array is 1-dimensional, but 2 were indexed",
     "output_type": "error",
     "traceback": [
      "\u001b[1;31m---------------------------------------------------------------------------\u001b[0m",
      "\u001b[1;31mIndexError\u001b[0m                                Traceback (most recent call last)",
      "Input \u001b[1;32mIn [33]\u001b[0m, in \u001b[0;36m<cell line: 1>\u001b[1;34m()\u001b[0m\n\u001b[1;32m----> 1\u001b[0m ali7 \u001b[38;5;241m=\u001b[39m ali \u001b[38;5;241m+\u001b[39m \u001b[43mali6\u001b[49m\u001b[43m[\u001b[49m\u001b[43m:\u001b[49m\u001b[43m,\u001b[49m\u001b[38;5;241;43m0\u001b[39;49m\u001b[43m]\u001b[49m\n",
      "\u001b[1;31mIndexError\u001b[0m: too many indices for array: array is 1-dimensional, but 2 were indexed"
     ]
    }
   ],
   "source": [
    "ali7 = ali + ali6[:,0]"
   ]
  },
  {
   "cell_type": "code",
   "execution_count": 34,
   "id": "8807560e-6345-442b-92f7-a95d0e191174",
   "metadata": {},
   "outputs": [
    {
     "ename": "IndexError",
     "evalue": "too many indices for array: array is 1-dimensional, but 2 were indexed",
     "output_type": "error",
     "traceback": [
      "\u001b[1;31m---------------------------------------------------------------------------\u001b[0m",
      "\u001b[1;31mIndexError\u001b[0m                                Traceback (most recent call last)",
      "Input \u001b[1;32mIn [34]\u001b[0m, in \u001b[0;36m<cell line: 1>\u001b[1;34m()\u001b[0m\n\u001b[1;32m----> 1\u001b[0m ali7 \u001b[38;5;241m=\u001b[39m ali[\u001b[38;5;241m0\u001b[39m] \u001b[38;5;241m+\u001b[39m \u001b[43mali6\u001b[49m\u001b[43m[\u001b[49m\u001b[43m:\u001b[49m\u001b[43m,\u001b[49m\u001b[43m \u001b[49m\u001b[38;5;241;43m0\u001b[39;49m\u001b[43m]\u001b[49m\n",
      "\u001b[1;31mIndexError\u001b[0m: too many indices for array: array is 1-dimensional, but 2 were indexed"
     ]
    }
   ],
   "source": [
    "ali7 = ali[0] + ali6[:, 0]"
   ]
  },
  {
   "cell_type": "code",
   "execution_count": 35,
   "id": "7810b724-fbad-4006-a03e-9cad376d407b",
   "metadata": {},
   "outputs": [
    {
     "data": {
      "text/plain": [
       "array([[ 5,  9,  6],\n",
       "       [ 3, 10,  8]])"
      ]
     },
     "execution_count": 35,
     "metadata": {},
     "output_type": "execute_result"
    }
   ],
   "source": [
    "ali3"
   ]
  },
  {
   "cell_type": "code",
   "execution_count": 36,
   "id": "9c4626c8-0e6d-4b6c-8c9a-268265522ad9",
   "metadata": {},
   "outputs": [
    {
     "data": {
      "text/plain": [
       "array([[ 4, 18,  8],\n",
       "       [ 2, 21, 16]])"
      ]
     },
     "execution_count": 36,
     "metadata": {},
     "output_type": "execute_result"
    }
   ],
   "source": [
    "ali4"
   ]
  },
  {
   "cell_type": "code",
   "execution_count": 37,
   "id": "819c465a-a55d-4249-b5c0-819a6e26d4e7",
   "metadata": {},
   "outputs": [
    {
     "data": {
      "text/plain": [
       "array([5, 3])"
      ]
     },
     "execution_count": 37,
     "metadata": {},
     "output_type": "execute_result"
    }
   ],
   "source": [
    "ali3[:,0] "
   ]
  },
  {
   "cell_type": "code",
   "execution_count": 38,
   "id": "54b6ba73-b4f0-4ff8-9fbb-eb9d8158cdc7",
   "metadata": {},
   "outputs": [
    {
     "data": {
      "text/plain": [
       "array([4, 2])"
      ]
     },
     "execution_count": 38,
     "metadata": {},
     "output_type": "execute_result"
    }
   ],
   "source": [
    "ali4[:,0]"
   ]
  },
  {
   "cell_type": "code",
   "execution_count": 39,
   "id": "b1ac081e-e0a4-4ffa-b284-adba3a11f447",
   "metadata": {},
   "outputs": [],
   "source": [
    "ali8 = ali3[:,0] + ali4[:,0]"
   ]
  },
  {
   "cell_type": "code",
   "execution_count": 40,
   "id": "92c8dd3e-b581-43bd-b422-a58ac8d82c86",
   "metadata": {},
   "outputs": [
    {
     "data": {
      "text/plain": [
       "array([9, 5])"
      ]
     },
     "execution_count": 40,
     "metadata": {},
     "output_type": "execute_result"
    }
   ],
   "source": [
    "ali8"
   ]
  },
  {
   "cell_type": "code",
   "execution_count": 41,
   "id": "6cc4de86-b751-441b-86c1-fafe210b6275",
   "metadata": {},
   "outputs": [
    {
     "data": {
      "text/plain": [
       "array([ 2, 21, 16])"
      ]
     },
     "execution_count": 41,
     "metadata": {},
     "output_type": "execute_result"
    }
   ],
   "source": [
    "ali4[-1]"
   ]
  },
  {
   "cell_type": "code",
   "execution_count": 47,
   "id": "71713a99-93b4-44fc-8d38-c4bf640c1e85",
   "metadata": {},
   "outputs": [
    {
     "data": {
      "text/plain": [
       "array([18, 21])"
      ]
     },
     "execution_count": 47,
     "metadata": {},
     "output_type": "execute_result"
    }
   ],
   "source": [
    "ali4[:,-2]"
   ]
  },
  {
   "cell_type": "code",
   "execution_count": null,
   "id": "d1053d08-01ab-42bc-87cc-eaf8ee06a9dd",
   "metadata": {},
   "outputs": [],
   "source": []
  }
 ],
 "metadata": {
  "kernelspec": {
   "display_name": "Python 3 (ipykernel)",
   "language": "python",
   "name": "python3"
  },
  "language_info": {
   "codemirror_mode": {
    "name": "ipython",
    "version": 3
   },
   "file_extension": ".py",
   "mimetype": "text/x-python",
   "name": "python",
   "nbconvert_exporter": "python",
   "pygments_lexer": "ipython3",
   "version": "3.9.12"
  }
 },
 "nbformat": 4,
 "nbformat_minor": 5
}
