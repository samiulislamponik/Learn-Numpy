{
 "cells": [
  {
   "cell_type": "code",
   "execution_count": 1,
   "id": "1a5d6110-d8bb-4596-89ca-b76262a9e48b",
   "metadata": {},
   "outputs": [],
   "source": [
    "import numpy as np"
   ]
  },
  {
   "cell_type": "code",
   "execution_count": 3,
   "id": "fbb9bfa9-6304-4c74-bc0a-5d946b2f73f3",
   "metadata": {},
   "outputs": [],
   "source": [
    "matrix_a = np.array([[1,3,4,6,7], [6,6,2,5,2]])"
   ]
  },
  {
   "cell_type": "code",
   "execution_count": 4,
   "id": "4df736e5-2b91-4c76-bba3-931cb0733ed8",
   "metadata": {},
   "outputs": [
    {
     "data": {
      "text/plain": [
       "array([[1, 3, 4, 6, 7],\n",
       "       [6, 6, 2, 5, 2]])"
      ]
     },
     "execution_count": 4,
     "metadata": {},
     "output_type": "execute_result"
    }
   ],
   "source": [
    "matrix_a"
   ]
  },
  {
   "cell_type": "code",
   "execution_count": 5,
   "id": "014c81a5-4bd0-423f-8740-8831d7635ca2",
   "metadata": {},
   "outputs": [
    {
     "data": {
      "text/plain": [
       "6"
      ]
     },
     "execution_count": 5,
     "metadata": {},
     "output_type": "execute_result"
    }
   ],
   "source": [
    "matrix_a[1,1]"
   ]
  },
  {
   "cell_type": "code",
   "execution_count": 6,
   "id": "9d17c12d-57ea-40d4-9c85-f08f72d0f527",
   "metadata": {},
   "outputs": [
    {
     "data": {
      "text/plain": [
       "numpy.int32"
      ]
     },
     "execution_count": 6,
     "metadata": {},
     "output_type": "execute_result"
    }
   ],
   "source": [
    "type(matrix_a[1,1])"
   ]
  },
  {
   "cell_type": "code",
   "execution_count": 7,
   "id": "fbb912f7-bd27-4588-bce7-b45cf25f23e5",
   "metadata": {},
   "outputs": [
    {
     "data": {
      "text/plain": [
       "numpy.ndarray"
      ]
     },
     "execution_count": 7,
     "metadata": {},
     "output_type": "execute_result"
    }
   ],
   "source": [
    "type(matrix_a[0:1,0:1])"
   ]
  },
  {
   "cell_type": "code",
   "execution_count": 8,
   "id": "7551b645-9d0b-45e1-83e4-790b5e12906a",
   "metadata": {},
   "outputs": [
    {
     "name": "stdout",
     "output_type": "stream",
     "text": [
      "[[1]]\n"
     ]
    }
   ],
   "source": [
    "print(matrix_a[0:1,0:1])"
   ]
  },
  {
   "cell_type": "code",
   "execution_count": 11,
   "id": "4fc72684-19fa-4855-ade0-41a9ef84e22b",
   "metadata": {},
   "outputs": [
    {
     "name": "stdout",
     "output_type": "stream",
     "text": [
      "[1]\n"
     ]
    }
   ],
   "source": [
    "print(matrix_a[0,0:1])"
   ]
  },
  {
   "cell_type": "code",
   "execution_count": 12,
   "id": "b6ab6da8-2cd7-4f90-966e-f3d930f5102c",
   "metadata": {},
   "outputs": [
    {
     "name": "stdout",
     "output_type": "stream",
     "text": [
      "1\n"
     ]
    }
   ],
   "source": [
    "print(matrix_a[0:1,0:1].squeeze())"
   ]
  },
  {
   "cell_type": "code",
   "execution_count": 13,
   "id": "1aea3f24-241b-464c-8948-f7dad8ca8339",
   "metadata": {},
   "outputs": [
    {
     "name": "stdout",
     "output_type": "stream",
     "text": [
      "1\n"
     ]
    }
   ],
   "source": [
    "print(matrix_a[0,0:1].squeeze())"
   ]
  },
  {
   "cell_type": "markdown",
   "id": "f60efe32-d0db-4796-8d83-49cccc835eaf",
   "metadata": {},
   "source": [
    "### There is another way of writing squeeze method!"
   ]
  },
  {
   "cell_type": "code",
   "execution_count": 14,
   "id": "919495a8-65b0-4de1-b78a-7ef813329d3d",
   "metadata": {},
   "outputs": [
    {
     "data": {
      "text/plain": [
       "array(1)"
      ]
     },
     "execution_count": 14,
     "metadata": {},
     "output_type": "execute_result"
    }
   ],
   "source": [
    "np.squeeze(matrix_a[0,0:1])"
   ]
  },
  {
   "cell_type": "markdown",
   "id": "7bdf7f4f-e0e5-4784-a74c-baa9d8f27361",
   "metadata": {},
   "source": [
    "### What will be the shape of the variable after squeezing?"
   ]
  },
  {
   "cell_type": "code",
   "execution_count": 16,
   "id": "c39e7db8-41be-41b4-8deb-a281a2e06314",
   "metadata": {},
   "outputs": [
    {
     "name": "stdout",
     "output_type": "stream",
     "text": [
      "()\n"
     ]
    }
   ],
   "source": [
    "print(matrix_a[0,0:1].squeeze().shape)"
   ]
  },
  {
   "cell_type": "code",
   "execution_count": null,
   "id": "709e2782-6b6d-4604-b474-31dcda55f19a",
   "metadata": {},
   "outputs": [],
   "source": []
  }
 ],
 "metadata": {
  "kernelspec": {
   "display_name": "Python 3 (ipykernel)",
   "language": "python",
   "name": "python3"
  },
  "language_info": {
   "codemirror_mode": {
    "name": "ipython",
    "version": 3
   },
   "file_extension": ".py",
   "mimetype": "text/x-python",
   "name": "python",
   "nbconvert_exporter": "python",
   "pygments_lexer": "ipython3",
   "version": "3.9.12"
  }
 },
 "nbformat": 4,
 "nbformat_minor": 5
}
