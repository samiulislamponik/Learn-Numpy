{
 "cells": [
  {
   "cell_type": "code",
   "execution_count": 1,
   "id": "1a5d6110-d8bb-4596-89ca-b76262a9e48b",
   "metadata": {},
   "outputs": [],
   "source": [
    "import numpy as np"
   ]
  },
  {
   "cell_type": "code",
   "execution_count": 3,
   "id": "fbb9bfa9-6304-4c74-bc0a-5d946b2f73f3",
   "metadata": {},
   "outputs": [],
   "source": [
    "matrix_a = np.array([[1,3,4,6,7], [6,6,2,5,2]])"
   ]
  },
  {
   "cell_type": "code",
   "execution_count": 4,
   "id": "4df736e5-2b91-4c76-bba3-931cb0733ed8",
   "metadata": {},
   "outputs": [
    {
     "data": {
      "text/plain": [
       "array([[1, 3, 4, 6, 7],\n",
       "       [6, 6, 2, 5, 2]])"
      ]
     },
     "execution_count": 4,
     "metadata": {},
     "output_type": "execute_result"
    }
   ],
   "source": [
    "matrix_a"
   ]
  },
  {
   "cell_type": "code",
   "execution_count": 5,
   "id": "014c81a5-4bd0-423f-8740-8831d7635ca2",
   "metadata": {},
   "outputs": [
    {
     "data": {
      "text/plain": [
       "6"
      ]
     },
     "execution_count": 5,
     "metadata": {},
     "output_type": "execute_result"
    }
   ],
   "source": [
    "matrix_a[1,1]"
   ]
  },
  {
   "cell_type": "code",
   "execution_count": 6,
   "id": "9d17c12d-57ea-40d4-9c85-f08f72d0f527",
   "metadata": {},
   "outputs": [
    {
     "data": {
      "text/plain": [
       "numpy.int32"
      ]
     },
     "execution_count": 6,
     "metadata": {},
     "output_type": "execute_result"
    }
   ],
   "source": [
    "type(matrix_a[1,1])"
   ]
  },
  {
   "cell_type": "code",
   "execution_count": 7,
   "id": "fbb912f7-bd27-4588-bce7-b45cf25f23e5",
   "metadata": {},
   "outputs": [
    {
     "data": {
      "text/plain": [
       "numpy.ndarray"
      ]
     },
     "execution_count": 7,
     "metadata": {},
     "output_type": "execute_result"
    }
   ],
   "source": [
    "type(matrix_a[0:1,0:1])"
   ]
  },
  {
   "cell_type": "code",
   "execution_count": 8,
   "id": "7551b645-9d0b-45e1-83e4-790b5e12906a",
   "metadata": {},
   "outputs": [
    {
     "name": "stdout",
     "output_type": "stream",
     "text": [
      "[[1]]\n"
     ]
    }
   ],
   "source": [
    "print(matrix_a[0:1,0:1])"
   ]
  },
  {
   "cell_type": "code",
   "execution_count": 11,
   "id": "4fc72684-19fa-4855-ade0-41a9ef84e22b",
   "metadata": {},
   "outputs": [
    {
     "name": "stdout",
     "output_type": "stream",
     "text": [
      "[1]\n"
     ]
    }
   ],
   "source": [
    "print(matrix_a[0,0:1])"
   ]
  },
  {
   "cell_type": "code",
   "execution_count": 12,
   "id": "b6ab6da8-2cd7-4f90-966e-f3d930f5102c",
   "metadata": {},
   "outputs": [
    {
     "name": "stdout",
     "output_type": "stream",
     "text": [
      "1\n"
     ]
    }
   ],
   "source": [
    "print(matrix_a[0:1,0:1].squeeze())"
   ]
  },
  {
   "cell_type": "code",
   "execution_count": 13,
   "id": "1aea3f24-241b-464c-8948-f7dad8ca8339",
   "metadata": {},
   "outputs": [
    {
     "name": "stdout",
     "output_type": "stream",
     "text": [
      "1\n"
     ]
    }
   ],
   "source": [
    "print(matrix_a[0,0:1].squeeze())"
   ]
  },
  {
   "cell_type": "code",
   "execution_count": null,
   "id": "f3d133d4-836a-4b2e-9eb8-ab5965f1b9d7",
   "metadata": {},
   "outputs": [],
   "source": []
  }
 ],
 "metadata": {
  "kernelspec": {
   "display_name": "Python 3 (ipykernel)",
   "language": "python",
   "name": "python3"
  },
  "language_info": {
   "codemirror_mode": {
    "name": "ipython",
    "version": 3
   },
   "file_extension": ".py",
   "mimetype": "text/x-python",
   "name": "python",
   "nbconvert_exporter": "python",
   "pygments_lexer": "ipython3",
   "version": "3.9.12"
  }
 },
 "nbformat": 4,
 "nbformat_minor": 5
}
