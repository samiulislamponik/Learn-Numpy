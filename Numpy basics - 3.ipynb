{
 "cells": [
  {
   "cell_type": "code",
   "execution_count": 1,
   "id": "28b934ff",
   "metadata": {},
   "outputs": [],
   "source": [
    "# Itarating through Matrix\n",
    "import numpy as np\n",
    "\n",
    "li = np.arange(40).reshape(4,10)"
   ]
  },
  {
   "cell_type": "code",
   "execution_count": 2,
   "id": "44326fc0",
   "metadata": {},
   "outputs": [
    {
     "data": {
      "text/plain": [
       "array([[ 0,  1,  2,  3,  4,  5,  6,  7,  8,  9],\n",
       "       [10, 11, 12, 13, 14, 15, 16, 17, 18, 19],\n",
       "       [20, 21, 22, 23, 24, 25, 26, 27, 28, 29],\n",
       "       [30, 31, 32, 33, 34, 35, 36, 37, 38, 39]])"
      ]
     },
     "execution_count": 2,
     "metadata": {},
     "output_type": "execute_result"
    }
   ],
   "source": [
    "li"
   ]
  },
  {
   "cell_type": "code",
   "execution_count": 3,
   "id": "fc498e08",
   "metadata": {},
   "outputs": [
    {
     "name": "stdout",
     "output_type": "stream",
     "text": [
      "[0 1 2 3 4 5 6 7 8 9]\n",
      "[10 11 12 13 14 15 16 17 18 19]\n",
      "[20 21 22 23 24 25 26 27 28 29]\n",
      "[30 31 32 33 34 35 36 37 38 39]\n"
     ]
    }
   ],
   "source": [
    "for i in li:\n",
    "    print(i)"
   ]
  },
  {
   "cell_type": "code",
   "execution_count": 5,
   "id": "a352834f",
   "metadata": {},
   "outputs": [
    {
     "name": "stdout",
     "output_type": "stream",
     "text": [
      "0\n",
      "1\n",
      "2\n",
      "3\n",
      "4\n",
      "5\n",
      "6\n",
      "7\n",
      "8\n",
      "9\n",
      "10\n",
      "11\n",
      "12\n",
      "13\n",
      "14\n",
      "15\n",
      "16\n",
      "17\n",
      "18\n",
      "19\n",
      "20\n",
      "21\n",
      "22\n",
      "23\n",
      "24\n",
      "25\n",
      "26\n",
      "27\n",
      "28\n",
      "29\n",
      "30\n",
      "31\n",
      "32\n",
      "33\n",
      "34\n",
      "35\n",
      "36\n",
      "37\n",
      "38\n",
      "39\n"
     ]
    }
   ],
   "source": [
    "for i in li.flatten():\n",
    "    print(i)"
   ]
  },
  {
   "cell_type": "code",
   "execution_count": 7,
   "id": "a9f87da9",
   "metadata": {},
   "outputs": [
    {
     "name": "stdout",
     "output_type": "stream",
     "text": [
      "0\n",
      "10\n",
      "20\n",
      "30\n",
      "1\n",
      "11\n",
      "21\n",
      "31\n",
      "2\n",
      "12\n",
      "22\n",
      "32\n",
      "3\n",
      "13\n",
      "23\n",
      "33\n",
      "4\n",
      "14\n",
      "24\n",
      "34\n",
      "5\n",
      "15\n",
      "25\n",
      "35\n",
      "6\n",
      "16\n",
      "26\n",
      "36\n",
      "7\n",
      "17\n",
      "27\n",
      "37\n",
      "8\n",
      "18\n",
      "28\n",
      "38\n",
      "9\n",
      "19\n",
      "29\n",
      "39\n"
     ]
    }
   ],
   "source": [
    "# nditer\n",
    "for i in np.nditer(li, order='F'):\n",
    "    print(i)"
   ]
  },
  {
   "cell_type": "code",
   "execution_count": 8,
   "id": "6408aa4b",
   "metadata": {},
   "outputs": [
    {
     "name": "stdout",
     "output_type": "stream",
     "text": [
      "[ 0 10 20 30]\n",
      "[ 1 11 21 31]\n",
      "[ 2 12 22 32]\n",
      "[ 3 13 23 33]\n",
      "[ 4 14 24 34]\n",
      "[ 5 15 25 35]\n",
      "[ 6 16 26 36]\n",
      "[ 7 17 27 37]\n",
      "[ 8 18 28 38]\n",
      "[ 9 19 29 39]\n"
     ]
    }
   ],
   "source": [
    "# nditer\n",
    "for i in np.nditer(li, order='F', flags=['external_loop']):\n",
    "    print(i)"
   ]
  },
  {
   "cell_type": "code",
   "execution_count": 10,
   "id": "8c96491d",
   "metadata": {},
   "outputs": [],
   "source": [
    "# Squre of each element of my orginal matrix\n",
    "for i in np.nditer(li, op_flags=['readwrite']):\n",
    "    i[...] = i*i"
   ]
  },
  {
   "cell_type": "code",
   "execution_count": 11,
   "id": "be5c93bc",
   "metadata": {},
   "outputs": [
    {
     "data": {
      "text/plain": [
       "array([[   0,    1,    4,    9,   16,   25,   36,   49,   64,   81],\n",
       "       [ 100,  121,  144,  169,  196,  225,  256,  289,  324,  361],\n",
       "       [ 400,  441,  484,  529,  576,  625,  676,  729,  784,  841],\n",
       "       [ 900,  961, 1024, 1089, 1156, 1225, 1296, 1369, 1444, 1521]])"
      ]
     },
     "execution_count": 11,
     "metadata": {},
     "output_type": "execute_result"
    }
   ],
   "source": [
    "li"
   ]
  },
  {
   "cell_type": "code",
   "execution_count": null,
   "id": "322b51dd",
   "metadata": {},
   "outputs": [],
   "source": [
    "# Iterating two array simultaniously\n",
    " for x,y in np.nditer([li, li])"
   ]
  }
 ],
 "metadata": {
  "kernelspec": {
   "display_name": "Python 3 (ipykernel)",
   "language": "python",
   "name": "python3"
  },
  "language_info": {
   "codemirror_mode": {
    "name": "ipython",
    "version": 3
   },
   "file_extension": ".py",
   "mimetype": "text/x-python",
   "name": "python",
   "nbconvert_exporter": "python",
   "pygments_lexer": "ipython3",
   "version": "3.9.12"
  }
 },
 "nbformat": 4,
 "nbformat_minor": 5
}
