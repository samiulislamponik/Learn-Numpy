{
 "cells": [
  {
   "cell_type": "code",
   "execution_count": 1,
   "id": "8fb8ffeb-21ca-4368-810d-e5446205e828",
   "metadata": {},
   "outputs": [],
   "source": [
    "import numpy as np"
   ]
  },
  {
   "cell_type": "code",
   "execution_count": 3,
   "id": "07cdf19b-7950-422c-afe6-26a15d8aa1c5",
   "metadata": {},
   "outputs": [
    {
     "data": {
      "text/plain": [
       "array([1, 3, 5])"
      ]
     },
     "execution_count": 3,
     "metadata": {},
     "output_type": "execute_result"
    }
   ],
   "source": [
    "array_a = np.array([1,3,5])\n",
    "array_a"
   ]
  },
  {
   "cell_type": "code",
   "execution_count": 4,
   "id": "8f8e1c3d-6fc2-4d93-96c5-1a7676f685de",
   "metadata": {},
   "outputs": [
    {
     "data": {
      "text/plain": [
       "array([[2],\n",
       "       [5]])"
      ]
     },
     "execution_count": 4,
     "metadata": {},
     "output_type": "execute_result"
    }
   ],
   "source": [
    "array_b = np.array([[2], [5]])\n",
    "array_b"
   ]
  },
  {
   "cell_type": "code",
   "execution_count": 5,
   "id": "de099f44-d4e3-4aff-8165-13b441c00bb4",
   "metadata": {},
   "outputs": [
    {
     "data": {
      "text/plain": [
       "array([[ 3,  5,  7],\n",
       "       [ 6,  8, 10]])"
      ]
     },
     "execution_count": 5,
     "metadata": {},
     "output_type": "execute_result"
    }
   ],
   "source": [
    "array_a + array_b"
   ]
  },
  {
   "cell_type": "code",
   "execution_count": 6,
   "id": "382d21fc-9de8-4b83-96cc-351be0e5c757",
   "metadata": {},
   "outputs": [
    {
     "data": {
      "text/plain": [
       "array([[ 3,  5,  7],\n",
       "       [ 6,  8, 10]])"
      ]
     },
     "execution_count": 6,
     "metadata": {},
     "output_type": "execute_result"
    }
   ],
   "source": [
    "np.add(array_a, array_b)"
   ]
  },
  {
   "cell_type": "code",
   "execution_count": 7,
   "id": "231a30e5-80d4-49bb-ae5b-f1ee7a3d393c",
   "metadata": {},
   "outputs": [
    {
     "data": {
      "text/plain": [
       "array([[1, 4, 7],\n",
       "       [7, 5, 9]])"
      ]
     },
     "execution_count": 7,
     "metadata": {},
     "output_type": "execute_result"
    }
   ],
   "source": [
    "matrix_c = np.array([[1, 4, 7], [7, 5, 9]])\n",
    "matrix_c"
   ]
  },
  {
   "cell_type": "code",
   "execution_count": 8,
   "id": "d8aeb32c-dcd2-46f4-be1a-8ce7704f2976",
   "metadata": {},
   "outputs": [
    {
     "data": {
      "text/plain": [
       "array([[ 2,  7, 12],\n",
       "       [ 8,  8, 14]])"
      ]
     },
     "execution_count": 8,
     "metadata": {},
     "output_type": "execute_result"
    }
   ],
   "source": [
    "np.add(array_a, matrix_c)"
   ]
  },
  {
   "cell_type": "code",
   "execution_count": 9,
   "id": "8894b94f-6b6e-4ade-8337-661aa0022dc9",
   "metadata": {},
   "outputs": [
    {
     "data": {
      "text/plain": [
       "array([[ 2,  7, 12],\n",
       "       [ 8,  8, 14]])"
      ]
     },
     "execution_count": 9,
     "metadata": {},
     "output_type": "execute_result"
    }
   ],
   "source": [
    "array_a + matrix_c"
   ]
  },
  {
   "cell_type": "code",
   "execution_count": 10,
   "id": "b961cc4f-0f84-4338-b9e4-3866b4aa75d7",
   "metadata": {},
   "outputs": [
    {
     "data": {
      "text/plain": [
       "array([[ 3,  6,  9],\n",
       "       [12, 10, 14]])"
      ]
     },
     "execution_count": 10,
     "metadata": {},
     "output_type": "execute_result"
    }
   ],
   "source": [
    "np.add(array_b, matrix_c)"
   ]
  },
  {
   "cell_type": "code",
   "execution_count": 11,
   "id": "93a9e143-5f31-4596-a1bc-18187c852a7c",
   "metadata": {},
   "outputs": [
    {
     "data": {
      "text/plain": [
       "array([[ 3,  6,  9],\n",
       "       [12, 10, 14]])"
      ]
     },
     "execution_count": 11,
     "metadata": {},
     "output_type": "execute_result"
    }
   ],
   "source": [
    "array_b+matrix_c"
   ]
  },
  {
   "cell_type": "code",
   "execution_count": null,
   "id": "dad6a989-c7e0-4d9b-87ef-c327fa198661",
   "metadata": {},
   "outputs": [],
   "source": []
  }
 ],
 "metadata": {
  "kernelspec": {
   "display_name": "Python 3 (ipykernel)",
   "language": "python",
   "name": "python3"
  },
  "language_info": {
   "codemirror_mode": {
    "name": "ipython",
    "version": 3
   },
   "file_extension": ".py",
   "mimetype": "text/x-python",
   "name": "python",
   "nbconvert_exporter": "python",
   "pygments_lexer": "ipython3",
   "version": "3.9.12"
  }
 },
 "nbformat": 4,
 "nbformat_minor": 5
}
