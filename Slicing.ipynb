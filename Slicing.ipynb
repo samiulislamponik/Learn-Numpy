{
 "cells": [
  {
   "cell_type": "code",
   "execution_count": 1,
   "id": "3f18a462-eaf5-473f-ae3a-ec9c7a632d5f",
   "metadata": {},
   "outputs": [],
   "source": [
    "import numpy as np"
   ]
  },
  {
   "cell_type": "code",
   "execution_count": 18,
   "id": "57e60531-7141-4f14-84fb-fd2d94a36e9a",
   "metadata": {},
   "outputs": [],
   "source": [
    "matrix_a = np.array([[1, 2, 3, 4, 7], [5, 6, 3, 8, 9], [7, 10, 0, -1, 8]])"
   ]
  },
  {
   "cell_type": "code",
   "execution_count": 19,
   "id": "b6e867ce-bedb-49f9-8f11-b0ecf4573d86",
   "metadata": {},
   "outputs": [
    {
     "data": {
      "text/plain": [
       "array([[ 1,  2,  3,  4,  7],\n",
       "       [ 5,  6,  3,  8,  9],\n",
       "       [ 7, 10,  0, -1,  8]])"
      ]
     },
     "execution_count": 19,
     "metadata": {},
     "output_type": "execute_result"
    }
   ],
   "source": [
    "matrix_a"
   ]
  },
  {
   "cell_type": "code",
   "execution_count": 21,
   "id": "51df538d-802b-457f-aecc-d3e6c3ffe2a7",
   "metadata": {},
   "outputs": [
    {
     "data": {
      "text/plain": [
       "(3, 5)"
      ]
     },
     "execution_count": 21,
     "metadata": {},
     "output_type": "execute_result"
    }
   ],
   "source": [
    "matrix_a.shape"
   ]
  },
  {
   "cell_type": "code",
   "execution_count": 22,
   "id": "4966fa88-de4c-432b-b4c3-9c22f2e5dd00",
   "metadata": {},
   "outputs": [
    {
     "data": {
      "text/plain": [
       "dtype('int32')"
      ]
     },
     "execution_count": 22,
     "metadata": {},
     "output_type": "execute_result"
    }
   ],
   "source": [
    "matrix_a[0].dtype"
   ]
  },
  {
   "cell_type": "code",
   "execution_count": 23,
   "id": "24fb936c-0ae5-41b6-a027-fbd8540ef80a",
   "metadata": {},
   "outputs": [
    {
     "data": {
      "text/plain": [
       "array([1, 2, 3, 4, 7])"
      ]
     },
     "execution_count": 23,
     "metadata": {},
     "output_type": "execute_result"
    }
   ],
   "source": [
    "matrix_a[0]"
   ]
  },
  {
   "cell_type": "code",
   "execution_count": 24,
   "id": "56e1fa8c-a6ba-4398-91ec-1e7418175213",
   "metadata": {},
   "outputs": [
    {
     "data": {
      "text/plain": [
       "array([[ 1,  2,  3,  4,  7],\n",
       "       [ 5,  6,  3,  8,  9],\n",
       "       [ 7, 10,  0, -1,  8]])"
      ]
     },
     "execution_count": 24,
     "metadata": {},
     "output_type": "execute_result"
    }
   ],
   "source": [
    "matrix_a[:]"
   ]
  },
  {
   "cell_type": "code",
   "execution_count": 25,
   "id": "b0c9d398-93de-48db-ad42-39b60adca798",
   "metadata": {},
   "outputs": [
    {
     "data": {
      "text/plain": [
       "array([[ 1,  2,  3,  4,  7],\n",
       "       [ 5,  6,  3,  8,  9],\n",
       "       [ 7, 10,  0, -1,  8]])"
      ]
     },
     "execution_count": 25,
     "metadata": {},
     "output_type": "execute_result"
    }
   ],
   "source": [
    "matrix_a[:,:]"
   ]
  },
  {
   "cell_type": "code",
   "execution_count": 27,
   "id": "faed755f-a4ea-4dfb-b61e-833e380c4e6c",
   "metadata": {},
   "outputs": [
    {
     "data": {
      "text/plain": [
       "array([[1, 2, 3],\n",
       "       [5, 6, 3]])"
      ]
     },
     "execution_count": 27,
     "metadata": {},
     "output_type": "execute_result"
    }
   ],
   "source": [
    "matrix_a[0:2,0:3]"
   ]
  },
  {
   "cell_type": "code",
   "execution_count": 28,
   "id": "a9c12525-5b2f-43b8-a904-eb001b12559f",
   "metadata": {},
   "outputs": [
    {
     "data": {
      "text/plain": [
       "array([[ 2,  4],\n",
       "       [10, -1]])"
      ]
     },
     "execution_count": 28,
     "metadata": {},
     "output_type": "execute_result"
    }
   ],
   "source": [
    "matrix_a[0: :2, 1: :2] #stage slicing."
   ]
  },
  {
   "cell_type": "code",
   "execution_count": null,
   "id": "a2b25099-3f45-40ae-97fe-05c7b1361ea2",
   "metadata": {},
   "outputs": [],
   "source": []
  }
 ],
 "metadata": {
  "kernelspec": {
   "display_name": "Python 3 (ipykernel)",
   "language": "python",
   "name": "python3"
  },
  "language_info": {
   "codemirror_mode": {
    "name": "ipython",
    "version": 3
   },
   "file_extension": ".py",
   "mimetype": "text/x-python",
   "name": "python",
   "nbconvert_exporter": "python",
   "pygments_lexer": "ipython3",
   "version": "3.9.12"
  }
 },
 "nbformat": 4,
 "nbformat_minor": 5
}
