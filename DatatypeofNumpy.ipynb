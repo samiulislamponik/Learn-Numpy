{
 "cells": [
  {
   "cell_type": "code",
   "execution_count": 1,
   "id": "8d570a84-de84-4f18-87f1-1ee9141fd1b6",
   "metadata": {},
   "outputs": [],
   "source": [
    "import numpy as np"
   ]
  },
  {
   "cell_type": "code",
   "execution_count": 6,
   "id": "65814c17-484c-469d-8dc7-a44fd7bf23e1",
   "metadata": {},
   "outputs": [],
   "source": [
    "array_a = np.array([[1,3,5], [2, 5, 1]], np.float32)"
   ]
  },
  {
   "cell_type": "code",
   "execution_count": 7,
   "id": "78411fac-2282-4b5d-93b0-841080990379",
   "metadata": {},
   "outputs": [
    {
     "data": {
      "text/plain": [
       "array([[1., 3., 5.],\n",
       "       [2., 5., 1.]], dtype=float32)"
      ]
     },
     "execution_count": 7,
     "metadata": {},
     "output_type": "execute_result"
    }
   ],
   "source": [
    "array_a"
   ]
  },
  {
   "cell_type": "code",
   "execution_count": 4,
   "id": "c2c81a8f-372b-4f26-a918-f9fafbd31f68",
   "metadata": {},
   "outputs": [
    {
     "data": {
      "text/plain": [
       "dtype('int32')"
      ]
     },
     "execution_count": 4,
     "metadata": {},
     "output_type": "execute_result"
    }
   ],
   "source": [
    "array_a.dtype"
   ]
  },
  {
   "cell_type": "code",
   "execution_count": 8,
   "id": "0a554674-eb63-43e9-ad5e-f5d542c2fda4",
   "metadata": {},
   "outputs": [],
   "source": [
    "array_b = np.array([[1,3,5], [2, 5, 1]], np.complex64)"
   ]
  },
  {
   "cell_type": "code",
   "execution_count": 9,
   "id": "e6088f3f-4ee3-4e37-b9d3-530db4ec0afc",
   "metadata": {},
   "outputs": [
    {
     "data": {
      "text/plain": [
       "array([[1.+0.j, 3.+0.j, 5.+0.j],\n",
       "       [2.+0.j, 5.+0.j, 1.+0.j]], dtype=complex64)"
      ]
     },
     "execution_count": 9,
     "metadata": {},
     "output_type": "execute_result"
    }
   ],
   "source": [
    "array_b"
   ]
  },
  {
   "cell_type": "code",
   "execution_count": 11,
   "id": "d8e61633-4630-4ccb-a10b-0080fd48ced3",
   "metadata": {},
   "outputs": [
    {
     "data": {
      "text/plain": [
       "array([[ True,  True,  True],\n",
       "       [ True,  True,  True]])"
      ]
     },
     "execution_count": 11,
     "metadata": {},
     "output_type": "execute_result"
    }
   ],
   "source": [
    "array_c = np.array([[1,3,5], [2, 5, 1]], np.bool_)\n",
    "array_c"
   ]
  },
  {
   "cell_type": "code",
   "execution_count": null,
   "id": "a1e5efcc-8486-4123-b8bc-05ec356c4bb8",
   "metadata": {},
   "outputs": [],
   "source": []
  }
 ],
 "metadata": {
  "kernelspec": {
   "display_name": "Python 3 (ipykernel)",
   "language": "python",
   "name": "python3"
  },
  "language_info": {
   "codemirror_mode": {
    "name": "ipython",
    "version": 3
   },
   "file_extension": ".py",
   "mimetype": "text/x-python",
   "name": "python",
   "nbconvert_exporter": "python",
   "pygments_lexer": "ipython3",
   "version": "3.9.12"
  }
 },
 "nbformat": 4,
 "nbformat_minor": 5
}
