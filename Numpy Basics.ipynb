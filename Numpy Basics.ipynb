{
 "cells": [
  {
   "cell_type": "code",
   "execution_count": 1,
   "id": "a496c2d8",
   "metadata": {},
   "outputs": [],
   "source": [
    "# Creating Num Array\n",
    "import numpy as np\n",
    "\n",
    "li = np.array([10, 30, 5])"
   ]
  },
  {
   "cell_type": "code",
   "execution_count": 2,
   "id": "5e5fafd8",
   "metadata": {},
   "outputs": [
    {
     "data": {
      "text/plain": [
       "30"
      ]
     },
     "execution_count": 2,
     "metadata": {},
     "output_type": "execute_result"
    }
   ],
   "source": [
    "li[0]\n",
    "li[1]"
   ]
  },
  {
   "cell_type": "code",
   "execution_count": 3,
   "id": "a80a068a",
   "metadata": {},
   "outputs": [
    {
     "data": {
      "text/plain": [
       "50"
      ]
     },
     "execution_count": 3,
     "metadata": {},
     "output_type": "execute_result"
    }
   ],
   "source": [
    "li[1] = 50\n",
    "li[1]"
   ]
  },
  {
   "cell_type": "code",
   "execution_count": 6,
   "id": "6d9fefef",
   "metadata": {},
   "outputs": [
    {
     "data": {
      "text/plain": [
       "array([[1, 2],\n",
       "       [4, 5],\n",
       "       [7, 8]])"
      ]
     },
     "execution_count": 6,
     "metadata": {},
     "output_type": "execute_result"
    }
   ],
   "source": [
    "li2 = np.array([[1,2], [4,5], [7,8]])\n",
    "li2"
   ]
  },
  {
   "cell_type": "code",
   "execution_count": 7,
   "id": "792b92f3",
   "metadata": {},
   "outputs": [
    {
     "data": {
      "text/plain": [
       "2"
      ]
     },
     "execution_count": 7,
     "metadata": {},
     "output_type": "execute_result"
    }
   ],
   "source": [
    "# How many dimantion this array has\n",
    "li2.ndim"
   ]
  },
  {
   "cell_type": "code",
   "execution_count": 10,
   "id": "baebef52",
   "metadata": {},
   "outputs": [
    {
     "data": {
      "text/plain": [
       "dtype('int32')"
      ]
     },
     "execution_count": 10,
     "metadata": {},
     "output_type": "execute_result"
    }
   ],
   "source": [
    "li2.itemsize\n",
    "li2.dtype"
   ]
  },
  {
   "cell_type": "code",
   "execution_count": 11,
   "id": "0cafb376",
   "metadata": {},
   "outputs": [],
   "source": [
    "#Changing Types\n",
    "li3 = np.array([[1,2], [3,5]], dtype = np.float64)"
   ]
  },
  {
   "cell_type": "code",
   "execution_count": 12,
   "id": "191e5d59",
   "metadata": {},
   "outputs": [
    {
     "data": {
      "text/plain": [
       "array([[1., 2.],\n",
       "       [3., 5.]])"
      ]
     },
     "execution_count": 12,
     "metadata": {},
     "output_type": "execute_result"
    }
   ],
   "source": [
    "li3\n"
   ]
  },
  {
   "cell_type": "code",
   "execution_count": 13,
   "id": "56ebbb63",
   "metadata": {},
   "outputs": [
    {
     "data": {
      "text/plain": [
       "8"
      ]
     },
     "execution_count": 13,
     "metadata": {},
     "output_type": "execute_result"
    }
   ],
   "source": [
    "li3.itemsize\n"
   ]
  },
  {
   "cell_type": "code",
   "execution_count": 14,
   "id": "8af108f4",
   "metadata": {},
   "outputs": [
    {
     "data": {
      "text/plain": [
       "4"
      ]
     },
     "execution_count": 14,
     "metadata": {},
     "output_type": "execute_result"
    }
   ],
   "source": [
    "# Total Number of Elements\n",
    "li3.size"
   ]
  },
  {
   "cell_type": "code",
   "execution_count": 16,
   "id": "772dd8ad",
   "metadata": {},
   "outputs": [
    {
     "data": {
      "text/plain": [
       "(3, 2)"
      ]
     },
     "execution_count": 16,
     "metadata": {},
     "output_type": "execute_result"
    }
   ],
   "source": [
    "# Shape of the array return the row x column\n",
    "li3.shape\n",
    "li2.shape"
   ]
  },
  {
   "cell_type": "code",
   "execution_count": 17,
   "id": "94dffa4d",
   "metadata": {},
   "outputs": [],
   "source": [
    "# Complex Number creation of an matrix\n",
    "li4 = np.array([[1,2], [3,5]], dtype = complex)"
   ]
  },
  {
   "cell_type": "code",
   "execution_count": 18,
   "id": "c2349586",
   "metadata": {},
   "outputs": [
    {
     "data": {
      "text/plain": [
       "array([[1.+0.j, 2.+0.j],\n",
       "       [3.+0.j, 5.+0.j]])"
      ]
     },
     "execution_count": 18,
     "metadata": {},
     "output_type": "execute_result"
    }
   ],
   "source": [
    "li4"
   ]
  },
  {
   "cell_type": "code",
   "execution_count": 19,
   "id": "db8a4d70",
   "metadata": {},
   "outputs": [],
   "source": [
    "# Initialing with placeholder via shape\n",
    "li5 = np.zeros((3,2))"
   ]
  },
  {
   "cell_type": "code",
   "execution_count": 20,
   "id": "9f35e1d4",
   "metadata": {},
   "outputs": [
    {
     "data": {
      "text/plain": [
       "array([[0., 0.],\n",
       "       [0., 0.],\n",
       "       [0., 0.]])"
      ]
     },
     "execution_count": 20,
     "metadata": {},
     "output_type": "execute_result"
    }
   ],
   "source": [
    "li5"
   ]
  },
  {
   "cell_type": "code",
   "execution_count": 21,
   "id": "abb80d07",
   "metadata": {},
   "outputs": [],
   "source": [
    "li5 = np.ones((2,3))"
   ]
  },
  {
   "cell_type": "code",
   "execution_count": 22,
   "id": "f9d985cc",
   "metadata": {},
   "outputs": [
    {
     "data": {
      "text/plain": [
       "array([[1., 1., 1.],\n",
       "       [1., 1., 1.]])"
      ]
     },
     "execution_count": 22,
     "metadata": {},
     "output_type": "execute_result"
    }
   ],
   "source": [
    "li5\n"
   ]
  },
  {
   "cell_type": "code",
   "execution_count": 23,
   "id": "9d60bb1b",
   "metadata": {},
   "outputs": [],
   "source": [
    "# Create an array using range func\n",
    "li6 = np.arange(3, 10)"
   ]
  },
  {
   "cell_type": "code",
   "execution_count": 24,
   "id": "ae3282cb",
   "metadata": {},
   "outputs": [
    {
     "data": {
      "text/plain": [
       "array([3, 4, 5, 6, 7, 8, 9])"
      ]
     },
     "execution_count": 24,
     "metadata": {},
     "output_type": "execute_result"
    }
   ],
   "source": [
    "li6"
   ]
  },
  {
   "cell_type": "code",
   "execution_count": 25,
   "id": "7119476f",
   "metadata": {},
   "outputs": [],
   "source": [
    "li7 = np.arange(1,10,3)"
   ]
  },
  {
   "cell_type": "code",
   "execution_count": 26,
   "id": "6e47be96",
   "metadata": {},
   "outputs": [
    {
     "data": {
      "text/plain": [
       "array([1, 4, 7])"
      ]
     },
     "execution_count": 26,
     "metadata": {},
     "output_type": "execute_result"
    }
   ],
   "source": [
    "li7"
   ]
  },
  {
   "cell_type": "code",
   "execution_count": 28,
   "id": "47f8f5e8",
   "metadata": {},
   "outputs": [
    {
     "data": {
      "text/plain": [
       "array([1.        , 1.57142857, 2.14285714, 2.71428571, 3.28571429,\n",
       "       3.85714286, 4.42857143, 5.        ])"
      ]
     },
     "execution_count": 28,
     "metadata": {},
     "output_type": "execute_result"
    }
   ],
   "source": [
    "# The uses of Linspace\n",
    "li8 = np.linspace(1, 5, 8)\n",
    "li8"
   ]
  },
  {
   "cell_type": "code",
   "execution_count": 3,
   "id": "a96c7e7e",
   "metadata": {},
   "outputs": [],
   "source": [
    "import numpy as np\n",
    "li10 = np.array([[1,2,3], [3,4,5]])"
   ]
  },
  {
   "cell_type": "code",
   "execution_count": 5,
   "id": "eadadbfd",
   "metadata": {},
   "outputs": [
    {
     "data": {
      "text/plain": [
       "(2, 3)"
      ]
     },
     "execution_count": 5,
     "metadata": {},
     "output_type": "execute_result"
    }
   ],
   "source": [
    "li10.shape\n"
   ]
  },
  {
   "cell_type": "code",
   "execution_count": 6,
   "id": "30a971a8",
   "metadata": {},
   "outputs": [
    {
     "data": {
      "text/plain": [
       "array([[1, 2],\n",
       "       [3, 3],\n",
       "       [4, 5]])"
      ]
     },
     "execution_count": 6,
     "metadata": {},
     "output_type": "execute_result"
    }
   ],
   "source": [
    "# Reshape an array\n",
    "li10.reshape((3,2))"
   ]
  },
  {
   "cell_type": "code",
   "execution_count": 7,
   "id": "96222df2",
   "metadata": {},
   "outputs": [
    {
     "data": {
      "text/plain": [
       "array([1, 2, 3, 3, 4, 5])"
      ]
     },
     "execution_count": 7,
     "metadata": {},
     "output_type": "execute_result"
    }
   ],
   "source": [
    "# Flatant our array means trun into one dimention using ravel function\n",
    "li10.ravel()"
   ]
  },
  {
   "cell_type": "code",
   "execution_count": 8,
   "id": "dcc2938e",
   "metadata": {},
   "outputs": [
    {
     "data": {
      "text/plain": [
       "array([[1, 2, 3],\n",
       "       [3, 4, 5]])"
      ]
     },
     "execution_count": 8,
     "metadata": {},
     "output_type": "execute_result"
    }
   ],
   "source": [
    "li10\n"
   ]
  },
  {
   "cell_type": "code",
   "execution_count": 9,
   "id": "79f4a606",
   "metadata": {},
   "outputs": [
    {
     "data": {
      "text/plain": [
       "5"
      ]
     },
     "execution_count": 9,
     "metadata": {},
     "output_type": "execute_result"
    }
   ],
   "source": [
    "# maximum & minimum of an matrix\n",
    "li10.max()"
   ]
  },
  {
   "cell_type": "code",
   "execution_count": 10,
   "id": "7dbf8f47",
   "metadata": {},
   "outputs": [
    {
     "data": {
      "text/plain": [
       "1"
      ]
     },
     "execution_count": 10,
     "metadata": {},
     "output_type": "execute_result"
    }
   ],
   "source": [
    "li10.min()"
   ]
  },
  {
   "cell_type": "code",
   "execution_count": 11,
   "id": "44763762",
   "metadata": {},
   "outputs": [
    {
     "data": {
      "text/plain": [
       "18"
      ]
     },
     "execution_count": 11,
     "metadata": {},
     "output_type": "execute_result"
    }
   ],
   "source": [
    "# Sum all element of an matrix\n",
    "li10.sum()"
   ]
  },
  {
   "cell_type": "code",
   "execution_count": 14,
   "id": "4bb5cfed",
   "metadata": {},
   "outputs": [
    {
     "data": {
      "text/plain": [
       "array([[1, 2, 3],\n",
       "       [3, 4, 5]])"
      ]
     },
     "execution_count": 14,
     "metadata": {},
     "output_type": "execute_result"
    }
   ],
   "source": [
    "li10"
   ]
  },
  {
   "cell_type": "code",
   "execution_count": 12,
   "id": "986e023a",
   "metadata": {},
   "outputs": [
    {
     "data": {
      "text/plain": [
       "array([4, 6, 8])"
      ]
     },
     "execution_count": 12,
     "metadata": {},
     "output_type": "execute_result"
    }
   ],
   "source": [
    "# Sum column or rows\n",
    "li10.sum(axis=0)"
   ]
  },
  {
   "cell_type": "code",
   "execution_count": 13,
   "id": "0860bf22",
   "metadata": {},
   "outputs": [
    {
     "data": {
      "text/plain": [
       "array([ 6, 12])"
      ]
     },
     "execution_count": 13,
     "metadata": {},
     "output_type": "execute_result"
    }
   ],
   "source": [
    "li10.sum(axis=1)"
   ]
  },
  {
   "cell_type": "code",
   "execution_count": 15,
   "id": "3843828f",
   "metadata": {},
   "outputs": [
    {
     "data": {
      "text/plain": [
       "array([[1.        , 1.41421356, 1.73205081],\n",
       "       [1.73205081, 2.        , 2.23606798]])"
      ]
     },
     "execution_count": 15,
     "metadata": {},
     "output_type": "execute_result"
    }
   ],
   "source": [
    "#sqrt function on matrix\n",
    "np.sqrt(li10)"
   ]
  },
  {
   "cell_type": "code",
   "execution_count": 16,
   "id": "36842282",
   "metadata": {},
   "outputs": [
    {
     "data": {
      "text/plain": [
       "1.2909944487358056"
      ]
     },
     "execution_count": 16,
     "metadata": {},
     "output_type": "execute_result"
    }
   ],
   "source": [
    "# Standered deviation of an matrix\n",
    "np.std(li10)"
   ]
  },
  {
   "cell_type": "code",
   "execution_count": 17,
   "id": "4757d4f0",
   "metadata": {},
   "outputs": [],
   "source": [
    "# Matrix multiplication and add, subtraction etc.\n",
    "li11 = np.array([[1,2],[3,4]])\n",
    "li12 = np.array([[5,6], [7,8]])"
   ]
  },
  {
   "cell_type": "code",
   "execution_count": 18,
   "id": "bb17b760",
   "metadata": {},
   "outputs": [
    {
     "data": {
      "text/plain": [
       "array([[ 6,  8],\n",
       "       [10, 12]])"
      ]
     },
     "execution_count": 18,
     "metadata": {},
     "output_type": "execute_result"
    }
   ],
   "source": [
    "li11+li12"
   ]
  },
  {
   "cell_type": "code",
   "execution_count": 19,
   "id": "7ebaa45a",
   "metadata": {},
   "outputs": [
    {
     "data": {
      "text/plain": [
       "array([[ 5, 12],\n",
       "       [21, 32]])"
      ]
     },
     "execution_count": 19,
     "metadata": {},
     "output_type": "execute_result"
    }
   ],
   "source": [
    "li11*li12"
   ]
  },
  {
   "cell_type": "code",
   "execution_count": 20,
   "id": "999d6d9f",
   "metadata": {},
   "outputs": [
    {
     "data": {
      "text/plain": [
       "array([[0.2       , 0.33333333],\n",
       "       [0.42857143, 0.5       ]])"
      ]
     },
     "execution_count": 20,
     "metadata": {},
     "output_type": "execute_result"
    }
   ],
   "source": [
    "li11/li12"
   ]
  },
  {
   "cell_type": "code",
   "execution_count": 21,
   "id": "c1af6419",
   "metadata": {},
   "outputs": [
    {
     "data": {
      "text/plain": [
       "array([[-4, -4],\n",
       "       [-4, -4]])"
      ]
     },
     "execution_count": 21,
     "metadata": {},
     "output_type": "execute_result"
    }
   ],
   "source": [
    "li11-li12"
   ]
  },
  {
   "cell_type": "code",
   "execution_count": null,
   "id": "41d4f555",
   "metadata": {},
   "outputs": [],
   "source": []
  }
 ],
 "metadata": {
  "kernelspec": {
   "display_name": "Python 3 (ipykernel)",
   "language": "python",
   "name": "python3"
  },
  "language_info": {
   "codemirror_mode": {
    "name": "ipython",
    "version": 3
   },
   "file_extension": ".py",
   "mimetype": "text/x-python",
   "name": "python",
   "nbconvert_exporter": "python",
   "pygments_lexer": "ipython3",
   "version": "3.9.12"
  }
 },
 "nbformat": 4,
 "nbformat_minor": 5
}
