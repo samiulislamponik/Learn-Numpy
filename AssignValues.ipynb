{
 "cells": [
  {
   "cell_type": "code",
   "execution_count": 1,
   "id": "e3120917-1d14-4e6d-8755-5880ac6a5064",
   "metadata": {},
   "outputs": [],
   "source": [
    "import numpy as np"
   ]
  },
  {
   "cell_type": "code",
   "execution_count": 2,
   "id": "37c16b42-d5d3-42da-8b3b-aedfa962681e",
   "metadata": {},
   "outputs": [],
   "source": [
    "li = np.array([[1, 2, 3], [7, 3, 6]])"
   ]
  },
  {
   "cell_type": "code",
   "execution_count": 3,
   "id": "73102081-0801-44d0-ab15-389f66f1ce16",
   "metadata": {},
   "outputs": [
    {
     "data": {
      "text/plain": [
       "array([[1, 2, 3],\n",
       "       [7, 3, 6]])"
      ]
     },
     "execution_count": 3,
     "metadata": {},
     "output_type": "execute_result"
    }
   ],
   "source": [
    "li"
   ]
  },
  {
   "cell_type": "code",
   "execution_count": 4,
   "id": "1ae00755-13e9-4c59-b96d-72b2b8a8aebb",
   "metadata": {},
   "outputs": [
    {
     "data": {
      "text/plain": [
       "array([1, 2, 3])"
      ]
     },
     "execution_count": 4,
     "metadata": {},
     "output_type": "execute_result"
    }
   ],
   "source": [
    "li[0]"
   ]
  },
  {
   "cell_type": "code",
   "execution_count": 5,
   "id": "d5cb0d60-c33d-4e8f-8277-76ba7736b627",
   "metadata": {},
   "outputs": [
    {
     "data": {
      "text/plain": [
       "array([7, 3, 6])"
      ]
     },
     "execution_count": 5,
     "metadata": {},
     "output_type": "execute_result"
    }
   ],
   "source": [
    "li[1]"
   ]
  },
  {
   "cell_type": "code",
   "execution_count": 6,
   "id": "09f4c0e0-df6c-4306-9136-f9edcb6af9c1",
   "metadata": {},
   "outputs": [
    {
     "data": {
      "text/plain": [
       "1"
      ]
     },
     "execution_count": 6,
     "metadata": {},
     "output_type": "execute_result"
    }
   ],
   "source": [
    "li[0][0]"
   ]
  },
  {
   "cell_type": "code",
   "execution_count": 10,
   "id": "b7493063-ba8d-4f79-8e5b-5a20cc53405e",
   "metadata": {},
   "outputs": [
    {
     "data": {
      "text/plain": [
       "2"
      ]
     },
     "execution_count": 10,
     "metadata": {},
     "output_type": "execute_result"
    }
   ],
   "source": [
    "li[0][1]"
   ]
  },
  {
   "cell_type": "code",
   "execution_count": 11,
   "id": "a13f0707-1fc2-42a7-9f95-71c2373529ac",
   "metadata": {},
   "outputs": [
    {
     "data": {
      "text/plain": [
       "(2, 3)"
      ]
     },
     "execution_count": 11,
     "metadata": {},
     "output_type": "execute_result"
    }
   ],
   "source": [
    "li.shape"
   ]
  },
  {
   "cell_type": "code",
   "execution_count": 12,
   "id": "4899424e-a416-435e-a119-8c414be1c9fe",
   "metadata": {},
   "outputs": [
    {
     "data": {
      "text/plain": [
       "'1.21.5'"
      ]
     },
     "execution_count": 12,
     "metadata": {},
     "output_type": "execute_result"
    }
   ],
   "source": [
    "np.__version__"
   ]
  },
  {
   "cell_type": "code",
   "execution_count": 16,
   "id": "b8611af8-5b3f-45c2-80d7-1f8a667ecd6f",
   "metadata": {},
   "outputs": [],
   "source": [
    "li[0][1] = 10"
   ]
  },
  {
   "cell_type": "code",
   "execution_count": 17,
   "id": "e79d18ba-943c-49c3-af4a-f4330adf15c5",
   "metadata": {},
   "outputs": [
    {
     "data": {
      "text/plain": [
       "array([[ 1, 10,  3],\n",
       "       [ 7,  3,  6]])"
      ]
     },
     "execution_count": 17,
     "metadata": {},
     "output_type": "execute_result"
    }
   ],
   "source": [
    "li"
   ]
  },
  {
   "cell_type": "code",
   "execution_count": 18,
   "id": "be3edb02-0fae-411a-bf4b-d96be56ad6ff",
   "metadata": {},
   "outputs": [],
   "source": [
    "li[0] = 1"
   ]
  },
  {
   "cell_type": "code",
   "execution_count": 19,
   "id": "0e116626-0f8a-41f2-9e02-d51ae708b9cc",
   "metadata": {},
   "outputs": [
    {
     "data": {
      "text/plain": [
       "array([[1, 1, 1],\n",
       "       [7, 3, 6]])"
      ]
     },
     "execution_count": 19,
     "metadata": {},
     "output_type": "execute_result"
    }
   ],
   "source": [
    "li"
   ]
  },
  {
   "cell_type": "code",
   "execution_count": 20,
   "id": "953a4b14-bf77-4ef5-ad11-71a57f27af49",
   "metadata": {},
   "outputs": [
    {
     "ename": "SyntaxError",
     "evalue": "invalid syntax (3197704390.py, line 1)",
     "output_type": "error",
     "traceback": [
      "\u001b[1;36m  Input \u001b[1;32mIn [20]\u001b[1;36m\u001b[0m\n\u001b[1;33m    li[][1] = 2\u001b[0m\n\u001b[1;37m       ^\u001b[0m\n\u001b[1;31mSyntaxError\u001b[0m\u001b[1;31m:\u001b[0m invalid syntax\n"
     ]
    }
   ],
   "source": [
    "li[][1] = 2"
   ]
  },
  {
   "cell_type": "code",
   "execution_count": 21,
   "id": "bae24533-3a0d-40e6-99f7-2ee640b819f3",
   "metadata": {},
   "outputs": [],
   "source": [
    "li[:][1] = 2"
   ]
  },
  {
   "cell_type": "code",
   "execution_count": 22,
   "id": "ade90ad8-7044-4046-9f76-31b9ca5fc76f",
   "metadata": {},
   "outputs": [
    {
     "data": {
      "text/plain": [
       "array([[1, 1, 1],\n",
       "       [2, 2, 2]])"
      ]
     },
     "execution_count": 22,
     "metadata": {},
     "output_type": "execute_result"
    }
   ],
   "source": [
    "li"
   ]
  },
  {
   "cell_type": "code",
   "execution_count": 23,
   "id": "d8ded989-90c4-45db-b65f-5a34fb3b66bd",
   "metadata": {},
   "outputs": [],
   "source": [
    "li[1, 0] = 5"
   ]
  },
  {
   "cell_type": "code",
   "execution_count": 24,
   "id": "6d7b6ace-5071-4822-958e-44fb52debd53",
   "metadata": {},
   "outputs": [
    {
     "data": {
      "text/plain": [
       "array([[1, 1, 1],\n",
       "       [5, 2, 2]])"
      ]
     },
     "execution_count": 24,
     "metadata": {},
     "output_type": "execute_result"
    }
   ],
   "source": [
    "li"
   ]
  },
  {
   "cell_type": "code",
   "execution_count": 25,
   "id": "0d7be89f-6a74-4e26-8d6d-6b952b93c777",
   "metadata": {},
   "outputs": [
    {
     "ename": "TypeError",
     "evalue": "'numpy.int32' object does not support item assignment",
     "output_type": "error",
     "traceback": [
      "\u001b[1;31m---------------------------------------------------------------------------\u001b[0m",
      "\u001b[1;31mTypeError\u001b[0m                                 Traceback (most recent call last)",
      "Input \u001b[1;32mIn [25]\u001b[0m, in \u001b[0;36m<cell line: 1>\u001b[1;34m()\u001b[0m\n\u001b[1;32m----> 1\u001b[0m li[\u001b[38;5;241m1\u001b[39m, \u001b[38;5;241m0\u001b[39m][\u001b[38;5;241m1\u001b[39m] \u001b[38;5;241m=\u001b[39m \u001b[38;5;241m6\u001b[39m\n",
      "\u001b[1;31mTypeError\u001b[0m: 'numpy.int32' object does not support item assignment"
     ]
    }
   ],
   "source": [
    "li[1, 0][1] = 6"
   ]
  },
  {
   "cell_type": "code",
   "execution_count": 1,
   "id": "3eb2585a-1712-48fa-9f21-02865e330ec3",
   "metadata": {},
   "outputs": [],
   "source": [
    "import numpy as np"
   ]
  },
  {
   "cell_type": "code",
   "execution_count": 3,
   "id": "b11c8ce4-3477-4ea4-90ea-f44b3027b739",
   "metadata": {},
   "outputs": [],
   "source": [
    "li = np.array([[2.4,5,7], [6, 6, 3]])"
   ]
  },
  {
   "cell_type": "code",
   "execution_count": 4,
   "id": "1d617f0e-d899-497b-8543-1486e19addc1",
   "metadata": {},
   "outputs": [
    {
     "data": {
      "text/plain": [
       "array([[2.4, 5. , 7. ],\n",
       "       [6. , 6. , 3. ]])"
      ]
     },
     "execution_count": 4,
     "metadata": {},
     "output_type": "execute_result"
    }
   ],
   "source": [
    "li"
   ]
  },
  {
   "cell_type": "code",
   "execution_count": 5,
   "id": "0bb72abe-3b7d-41e4-81fe-166bd11408cc",
   "metadata": {},
   "outputs": [
    {
     "ename": "AttributeError",
     "evalue": "'numpy.ndarray' object has no attribute 'type'",
     "output_type": "error",
     "traceback": [
      "\u001b[1;31m---------------------------------------------------------------------------\u001b[0m",
      "\u001b[1;31mAttributeError\u001b[0m                            Traceback (most recent call last)",
      "Input \u001b[1;32mIn [5]\u001b[0m, in \u001b[0;36m<cell line: 1>\u001b[1;34m()\u001b[0m\n\u001b[1;32m----> 1\u001b[0m \u001b[43mli\u001b[49m\u001b[38;5;241;43m.\u001b[39;49m\u001b[43mtype\u001b[49m\n",
      "\u001b[1;31mAttributeError\u001b[0m: 'numpy.ndarray' object has no attribute 'type'"
     ]
    }
   ],
   "source": [
    "li.type"
   ]
  },
  {
   "cell_type": "code",
   "execution_count": 6,
   "id": "037b7173-fb73-466d-aefe-e84bac120645",
   "metadata": {},
   "outputs": [
    {
     "ename": "AttributeError",
     "evalue": "'numpy.ndarray' object has no attribute 'dype'",
     "output_type": "error",
     "traceback": [
      "\u001b[1;31m---------------------------------------------------------------------------\u001b[0m",
      "\u001b[1;31mAttributeError\u001b[0m                            Traceback (most recent call last)",
      "Input \u001b[1;32mIn [6]\u001b[0m, in \u001b[0;36m<cell line: 1>\u001b[1;34m()\u001b[0m\n\u001b[1;32m----> 1\u001b[0m \u001b[43mli\u001b[49m\u001b[38;5;241;43m.\u001b[39;49m\u001b[43mdype\u001b[49m\n",
      "\u001b[1;31mAttributeError\u001b[0m: 'numpy.ndarray' object has no attribute 'dype'"
     ]
    }
   ],
   "source": [
    "li.dype"
   ]
  },
  {
   "cell_type": "code",
   "execution_count": 7,
   "id": "2bd93bee-e51a-4817-aa9c-d8a65005f18e",
   "metadata": {},
   "outputs": [
    {
     "data": {
      "text/plain": [
       "dtype('float64')"
      ]
     },
     "execution_count": 7,
     "metadata": {},
     "output_type": "execute_result"
    }
   ],
   "source": [
    "li.dtype"
   ]
  },
  {
   "cell_type": "code",
   "execution_count": 8,
   "id": "8af23cbb-e07f-4674-984d-7c57f028549a",
   "metadata": {},
   "outputs": [
    {
     "data": {
      "text/plain": [
       "(2, 3)"
      ]
     },
     "execution_count": 8,
     "metadata": {},
     "output_type": "execute_result"
    }
   ],
   "source": [
    "li.shape"
   ]
  },
  {
   "cell_type": "code",
   "execution_count": 9,
   "id": "0f759d8c-d31a-4305-bec1-69798accfd57",
   "metadata": {},
   "outputs": [
    {
     "data": {
      "text/plain": [
       "array([2.4, 5. , 7. ])"
      ]
     },
     "execution_count": 9,
     "metadata": {},
     "output_type": "execute_result"
    }
   ],
   "source": [
    "li[0]"
   ]
  },
  {
   "cell_type": "code",
   "execution_count": 10,
   "id": "42c20ddd-e3a9-480e-a3dd-0e83b9410f81",
   "metadata": {},
   "outputs": [
    {
     "data": {
      "text/plain": [
       "array([6., 6., 3.])"
      ]
     },
     "execution_count": 10,
     "metadata": {},
     "output_type": "execute_result"
    }
   ],
   "source": [
    "li[1]"
   ]
  },
  {
   "cell_type": "code",
   "execution_count": 11,
   "id": "ebdbe1f9-5ecd-4e57-b515-1167ec97e0e0",
   "metadata": {},
   "outputs": [
    {
     "data": {
      "text/plain": [
       "array([[2.4, 5. , 7. ],\n",
       "       [6. , 6. , 3. ]])"
      ]
     },
     "execution_count": 11,
     "metadata": {},
     "output_type": "execute_result"
    }
   ],
   "source": [
    "li"
   ]
  },
  {
   "cell_type": "code",
   "execution_count": 12,
   "id": "7b75594c-0ece-4602-8a8f-78337551b546",
   "metadata": {},
   "outputs": [],
   "source": [
    "li[:,0] = 10"
   ]
  },
  {
   "cell_type": "code",
   "execution_count": 13,
   "id": "357f8d9e-4102-4573-aa3b-9483ab427ad9",
   "metadata": {},
   "outputs": [
    {
     "data": {
      "text/plain": [
       "array([[10.,  5.,  7.],\n",
       "       [10.,  6.,  3.]])"
      ]
     },
     "execution_count": 13,
     "metadata": {},
     "output_type": "execute_result"
    }
   ],
   "source": [
    "li"
   ]
  },
  {
   "cell_type": "code",
   "execution_count": 14,
   "id": "25ab3b52-29d4-47cb-a5c8-1c924756ed4d",
   "metadata": {},
   "outputs": [
    {
     "data": {
      "text/plain": [
       "numpy.ndarray"
      ]
     },
     "execution_count": 14,
     "metadata": {},
     "output_type": "execute_result"
    }
   ],
   "source": [
    "type(li)"
   ]
  },
  {
   "cell_type": "code",
   "execution_count": 15,
   "id": "9d26ccca-c4d4-4bc9-88aa-41d9ef93ac93",
   "metadata": {},
   "outputs": [],
   "source": [
    "l = [20, 10, 33]"
   ]
  },
  {
   "cell_type": "code",
   "execution_count": 16,
   "id": "aaf7a106-052c-413d-b11c-1afd4f1142ae",
   "metadata": {},
   "outputs": [],
   "source": [
    "li[0] = l"
   ]
  },
  {
   "cell_type": "code",
   "execution_count": 17,
   "id": "ec1f4b2c-849a-46ed-b56e-f53b3041a65d",
   "metadata": {},
   "outputs": [
    {
     "data": {
      "text/plain": [
       "array([[20., 10., 33.],\n",
       "       [10.,  6.,  3.]])"
      ]
     },
     "execution_count": 17,
     "metadata": {},
     "output_type": "execute_result"
    }
   ],
   "source": [
    "li"
   ]
  },
  {
   "cell_type": "code",
   "execution_count": 18,
   "id": "991e16e6-532b-4236-96d7-428ba8b05f9b",
   "metadata": {},
   "outputs": [
    {
     "data": {
      "text/plain": [
       "numpy.ndarray"
      ]
     },
     "execution_count": 18,
     "metadata": {},
     "output_type": "execute_result"
    }
   ],
   "source": [
    "type(li[0])"
   ]
  },
  {
   "cell_type": "code",
   "execution_count": null,
   "id": "584cc1f1-cf7a-4718-9c52-9173eeb80279",
   "metadata": {},
   "outputs": [],
   "source": []
  }
 ],
 "metadata": {
  "kernelspec": {
   "display_name": "Python 3 (ipykernel)",
   "language": "python",
   "name": "python3"
  },
  "language_info": {
   "codemirror_mode": {
    "name": "ipython",
    "version": 3
   },
   "file_extension": ".py",
   "mimetype": "text/x-python",
   "name": "python",
   "nbconvert_exporter": "python",
   "pygments_lexer": "ipython3",
   "version": "3.9.12"
  }
 },
 "nbformat": 4,
 "nbformat_minor": 5
}
